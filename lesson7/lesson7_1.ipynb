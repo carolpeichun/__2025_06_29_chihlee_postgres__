{
 "cells": [
  {
   "cell_type": "markdown",
   "id": "18c6db25",
   "metadata": {},
   "source": [
    "### 這是python基礎課程\n",
    "- python基本資料型別"
   ]
  },
  {
   "cell_type": "code",
   "execution_count": 14,
   "id": "aedcf36d",
   "metadata": {},
   "outputs": [
    {
     "name": "stdout",
     "output_type": "stream",
     "text": [
      "Hello, Python!\n",
      "以下是python的基本資料類型(int,float,str,bool)\n"
     ]
    },
    {
     "data": {
      "text/plain": [
       "True"
      ]
     },
     "execution_count": 14,
     "metadata": {},
     "output_type": "execute_result"
    }
   ],
   "source": [
    "print(\"Hello, Python!\")\n",
    "print(\"以下是python的基本資料類型(int,float,str,bool)\")\n",
    "15 #整數, (int)\n",
    "15.0 #浮點數, (float)\n",
    "\"15.0\" #字串, (str)\n",
    "'15.0' #字串, (str)\n",
    "True #布林值, (bool)"
   ]
  },
  {
   "cell_type": "code",
   "execution_count": 15,
   "id": "ec9caf20",
   "metadata": {},
   "outputs": [
    {
     "name": "stdout",
     "output_type": "stream",
     "text": [
      "SELECT \"stationCode\",\"stationName\",\"stationAddrTw\" \n",
      "FROM \"台鐵車站資訊\" \n",
      "WHERE \"stationAddrTw\" LIKE '%基隆市%';\n"
     ]
    }
   ],
   "source": [
    "#單行字串表示法\n",
    "print(\"SELECT \\\"stationCode\\\",\\\"stationName\\\",\\\"stationAddrTw\\\" \\nFROM \\\"台鐵車站資訊\\\" \\nWHERE \\\"stationAddrTw\\\" LIKE '%基隆市%';\")    #字串裡的雙引號需加\"\\\"python才能分辦, 單引號不需加\"\\\"; 字串裡加\"\\n\"表換行"
   ]
  },
  {
   "cell_type": "code",
   "execution_count": 16,
   "id": "0248aec2",
   "metadata": {},
   "outputs": [
    {
     "data": {
      "text/plain": [
       "'單行字串'"
      ]
     },
     "execution_count": 16,
     "metadata": {},
     "output_type": "execute_result"
    }
   ],
   "source": [
    "\"單行字串\"\n",
    "'單行字串'"
   ]
  },
  {
   "cell_type": "code",
   "execution_count": 17,
   "id": "fb51fd1d",
   "metadata": {},
   "outputs": [
    {
     "name": "stdout",
     "output_type": "stream",
     "text": [
      "SELECT \"stationCode\",\"stationName\",\"stationAddrTw\" \n",
      "FROM \"台鐵車站資訊\" \n",
      "WHERE \"stationAddrTw\" LIKE '%基隆市%';\n"
     ]
    }
   ],
   "source": [
    "#多行字串表示法\n",
    "print(\"\"\"SELECT \"stationCode\",\"stationName\",\"stationAddrTw\" \n",
    "FROM \"台鐵車站資訊\" \n",
    "WHERE \"stationAddrTw\" LIKE '%基隆市%';\"\"\")"
   ]
  },
  {
   "cell_type": "code",
   "execution_count": 18,
   "id": "defff46b",
   "metadata": {},
   "outputs": [
    {
     "name": "stdout",
     "output_type": "stream",
     "text": [
      "CREATE TABLE public.台鐵車站資訊 (\n",
      "\t\"stationCode\" int4 NOT NULL,\n",
      "\t\"stationName\" varchar(50) NULL,\n",
      "\t\"name\" varchar(50) NULL,\n",
      "\t\"stationAddrTw\" varchar(50) NULL,\n",
      "\t\"stationTel\" varchar(50) NULL,\n",
      "\tgps varchar(50) NULL,\n",
      "\t\"haveBike\" varchar(50) NULL,\n",
      "\tCONSTRAINT 台鐵車站資訊_pkey PRIMARY KEY (\"stationCode\")\n",
      ");\n"
     ]
    }
   ],
   "source": [
    "#Copy DB裡的SQL Scripts需使用\"多行字串表示法\"\n",
    "print(\"\"\"CREATE TABLE public.台鐵車站資訊 (\n",
    "\t\"stationCode\" int4 NOT NULL,\n",
    "\t\"stationName\" varchar(50) NULL,\n",
    "\t\"name\" varchar(50) NULL,\n",
    "\t\"stationAddrTw\" varchar(50) NULL,\n",
    "\t\"stationTel\" varchar(50) NULL,\n",
    "\tgps varchar(50) NULL,\n",
    "\t\"haveBike\" varchar(50) NULL,\n",
    "\tCONSTRAINT 台鐵車站資訊_pkey PRIMARY KEY (\"stationCode\")\n",
    ");\"\"\")"
   ]
  },
  {
   "cell_type": "code",
   "execution_count": null,
   "id": "e51db99a",
   "metadata": {},
   "outputs": [
    {
     "name": "stdout",
     "output_type": "stream",
     "text": [
      "SELECT\n",
      "  \"stationCode\",\n",
      "  \"stationName\",\n",
      "  \"name\"\n",
      "FROM\n",
      "  \"台鐵車站資訊\"\n",
      "WHERE\n",
      "  \"stationAddrTw\" LIKE '基隆市%';\n"
     ]
    }
   ],
   "source": [
    "#列出基隆站點\n",
    "print(\"\"\"SELECT\n",
    "  \"stationCode\",\n",
    "  \"stationName\",\n",
    "  \"name\"\n",
    "FROM\n",
    "  \"台鐵車站資訊\"\n",
    "WHERE\n",
    "  \"stationAddrTw\" LIKE '基隆市%';\"\"\")"
   ]
  },
  {
   "cell_type": "code",
   "execution_count": null,
   "id": "6d69dda8",
   "metadata": {},
   "outputs": [
    {
     "name": "stdout",
     "output_type": "stream",
     "text": [
      "SELECT \n",
      "    COUNT(*) AS station_count,\n",
      "    STRING_AGG(\"stationName\", ', ') AS station_names\n",
      "FROM \n",
      "    \"台鐵車站資訊\"\n",
      "WHERE \n",
      "    \"stationAddrTw\" LIKE '%基隆%';\n"
     ]
    }
   ],
   "source": [
    "#列出基隆站點並計算出數量\n",
    "print(\"\"\"SELECT \n",
    "    COUNT(*) AS station_count,\n",
    "    STRING_AGG(\"stationName\", ', ') AS station_names\n",
    "FROM \n",
    "    \"台鐵車站資訊\"\n",
    "WHERE \n",
    "    \"stationAddrTw\" LIKE '%基隆%';\"\"\")"
   ]
  },
  {
   "cell_type": "code",
   "execution_count": 21,
   "id": "49269a14",
   "metadata": {},
   "outputs": [
    {
     "name": "stdout",
     "output_type": "stream",
     "text": [
      "SELECT * \n",
      "FROM \"每日各站進出站人數\" LEFT JOIN \"台鐵車站資訊\" ON 車站代碼 = \"stationCode\";\n"
     ]
    }
   ],
   "source": [
    "#作業：#query 使用JOIN取出所有欄位\n",
    "print(\"\"\"SELECT * \n",
    "FROM \"每日各站進出站人數\" LEFT JOIN \"台鐵車站資訊\" ON 車站代碼 = \"stationCode\";\"\"\")"
   ]
  },
  {
   "cell_type": "code",
   "execution_count": 22,
   "id": "b1104a32",
   "metadata": {},
   "outputs": [
    {
     "name": "stdout",
     "output_type": "stream",
     "text": [
      "SELECT \n",
      "    a.\"日期\",\n",
      "    a.\"進站人數\",\n",
      "    a.\"出站人數\",\n",
      "    b.\"stationName\" AS \"名稱\",\n",
      "    b.\"name\" AS \"地名\",\n",
      "    b.\"stationAddrTw\" AS \"地址\",\n",
      "    b.\"haveBike\" AS \"youbike\"\n",
      "FROM \"每日各站進出站人數\" AS a\n",
      "LEFT JOIN \"台鐵車站資訊\" AS b\n",
      "ON a.\"車站代碼\" = b.\"stationCode\";\n"
     ]
    }
   ],
   "source": [
    "#作業：#query 使用JOIN取出指定欄位:日期,進站人數,出站人數,名稱,地名,地址,youbike\n",
    "print(\"\"\"SELECT \n",
    "    a.\"日期\",\n",
    "    a.\"進站人數\",\n",
    "    a.\"出站人數\",\n",
    "    b.\"stationName\" AS \"名稱\",\n",
    "    b.\"name\" AS \"地名\",\n",
    "    b.\"stationAddrTw\" AS \"地址\",\n",
    "    b.\"haveBike\" AS \"youbike\"\n",
    "FROM \"每日各站進出站人數\" AS a\n",
    "LEFT JOIN \"台鐵車站資訊\" AS b\n",
    "ON a.\"車站代碼\" = b.\"stationCode\";\"\"\")"
   ]
  },
  {
   "cell_type": "code",
   "execution_count": 23,
   "id": "4130433d",
   "metadata": {},
   "outputs": [
    {
     "name": "stdout",
     "output_type": "stream",
     "text": [
      "SELECT DISTINCT\n",
      "    b.\"stationCode\",\n",
      "    b.\"stationName\",\n",
      "    b.\"name\",\n",
      "    b.\"stationAddrTw\"\n",
      "FROM \"每日各站進出站人數\" AS a\n",
      "JOIN \"台鐵車站資訊\" AS b\n",
      "  ON a.\"車站代碼\" = b.\"stationCode\"\n",
      "WHERE b.\"stationAddrTw\" LIKE '基隆市%';\n",
      "\n"
     ]
    }
   ],
   "source": [
    "#作業：#query 使用JOIN取出基隆市有那些火車站\n",
    "print(\"\"\"SELECT DISTINCT\n",
    "    b.\"stationCode\",\n",
    "    b.\"stationName\",\n",
    "    b.\"name\",\n",
    "    b.\"stationAddrTw\"\n",
    "FROM \"每日各站進出站人數\" AS a\n",
    "JOIN \"台鐵車站資訊\" AS b\n",
    "  ON a.\"車站代碼\" = b.\"stationCode\"\n",
    "WHERE b.\"stationAddrTw\" LIKE '基隆市%';\n",
    "\"\"\")\n"
   ]
  },
  {
   "cell_type": "code",
   "execution_count": 25,
   "id": "42d3fe76",
   "metadata": {},
   "outputs": [
    {
     "name": "stdout",
     "output_type": "stream",
     "text": [
      "SELECT DISTINCT\n",
      "    a.\"日期\",\n",
      "    a.\"進站人數\",\n",
      "    a.\"出站人數\",\n",
      "    b.\"stationCode\",\n",
      "    b.\"stationName\",\n",
      "    b.\"name\",\n",
      "    b.\"stationAddrTw\",\n",
      "    b.\"haveBike\"\n",
      "FROM \"每日各站進出站人數\" AS a\n",
      "JOIN \"台鐵車站資訊\" AS b\n",
      "  ON a.\"車站代碼\" = b.\"stationCode\"\n",
      "WHERE b.\"stationAddrTw\" LIKE '基隆市%'\n",
      "  AND a.\"日期\" = '2022-03-01';\n",
      "\n"
     ]
    }
   ],
   "source": [
    "#作業：#query 使用JOIN取出基隆火車站2022年3月1日資料\n",
    "print(\"\"\"SELECT DISTINCT\n",
    "    a.\"日期\",\n",
    "    a.\"進站人數\",\n",
    "    a.\"出站人數\",\n",
    "    b.\"stationCode\",\n",
    "    b.\"stationName\",\n",
    "    b.\"name\",\n",
    "    b.\"stationAddrTw\",\n",
    "    b.\"haveBike\"\n",
    "FROM \"每日各站進出站人數\" AS a\n",
    "JOIN \"台鐵車站資訊\" AS b\n",
    "  ON a.\"車站代碼\" = b.\"stationCode\"\n",
    "WHERE b.\"stationAddrTw\" LIKE '基隆市%'\n",
    "  AND a.\"日期\" = '2022-03-01';\n",
    "\"\"\")"
   ]
  },
  {
   "cell_type": "code",
   "execution_count": 26,
   "id": "617f7a0c",
   "metadata": {},
   "outputs": [
    {
     "name": "stdout",
     "output_type": "stream",
     "text": [
      "SELECT DISTINCT\n",
      "    a.\"日期\",\n",
      "    a.\"進站人數\",\n",
      "    a.\"出站人數\",\n",
      "    b.\"stationCode\",\n",
      "    b.\"stationName\",\n",
      "    b.\"name\",\n",
      "    b.\"stationAddrTw\",\n",
      "    b.\"haveBike\"\n",
      "FROM \"每日各站進出站人數\" AS a\n",
      "JOIN \"台鐵車站資訊\" AS b\n",
      "  ON a.\"車站代碼\" = b.\"stationCode\"\n",
      "WHERE b.\"stationAddrTw\" LIKE '基隆市%'\n",
      "  AND a.\"日期\" >= '2022-03-01'\n",
      "  AND a.\"日期\" < '2022-04-01'\n",
      "ORDER BY a.\"日期\" ASC;\n",
      "\n"
     ]
    }
   ],
   "source": [
    "#作業：#query 使用JOIN取出基隆火車站2022年3月份資料,時間由小到大排序\n",
    "print(\"\"\"SELECT DISTINCT\n",
    "    a.\"日期\",\n",
    "    a.\"進站人數\",\n",
    "    a.\"出站人數\",\n",
    "    b.\"stationCode\",\n",
    "    b.\"stationName\",\n",
    "    b.\"name\",\n",
    "    b.\"stationAddrTw\",\n",
    "    b.\"haveBike\"\n",
    "FROM \"每日各站進出站人數\" AS a\n",
    "JOIN \"台鐵車站資訊\" AS b\n",
    "  ON a.\"車站代碼\" = b.\"stationCode\"\n",
    "WHERE b.\"stationAddrTw\" LIKE '基隆市%'\n",
    "  AND a.\"日期\" >= '2022-03-01'\n",
    "  AND a.\"日期\" < '2022-04-01'\n",
    "ORDER BY a.\"日期\" ASC;\n",
    "\"\"\")"
   ]
  },
  {
   "cell_type": "code",
   "execution_count": 27,
   "id": "28662ed9",
   "metadata": {},
   "outputs": [
    {
     "name": "stdout",
     "output_type": "stream",
     "text": [
      "SELECT DISTINCT\n",
      "    a.\"日期\",\n",
      "    a.\"進站人數\",\n",
      "    a.\"出站人數\",\n",
      "    b.\"stationCode\",\n",
      "    b.\"stationName\",\n",
      "    b.\"name\",\n",
      "    b.\"stationAddrTw\",\n",
      "    b.\"haveBike\"\n",
      "FROM \"每日各站進出站人數\" AS a\n",
      "JOIN \"台鐵車站資訊\" AS b\n",
      "  ON a.\"車站代碼\" = b.\"stationCode\"\n",
      "WHERE (b.\"stationAddrTw\" LIKE '基隆市%' OR b.\"stationAddrTw\" LIKE '臺北市%')\n",
      "  AND a.\"日期\" >= '2022-03-01'\n",
      "  AND a.\"日期\" < '2022-04-01'\n",
      "ORDER BY a.\"日期\" ASC;\n",
      "\n"
     ]
    }
   ],
   "source": [
    "#作業：#query 使用JOIN取出基隆火車站和臺北火車站2022年3月份資料,時間由小到大排序\n",
    "print(\"\"\"SELECT DISTINCT\n",
    "    a.\"日期\",\n",
    "    a.\"進站人數\",\n",
    "    a.\"出站人數\",\n",
    "    b.\"stationCode\",\n",
    "    b.\"stationName\",\n",
    "    b.\"name\",\n",
    "    b.\"stationAddrTw\",\n",
    "    b.\"haveBike\"\n",
    "FROM \"每日各站進出站人數\" AS a\n",
    "JOIN \"台鐵車站資訊\" AS b\n",
    "  ON a.\"車站代碼\" = b.\"stationCode\"\n",
    "WHERE (b.\"stationAddrTw\" LIKE '基隆市%' OR b.\"stationAddrTw\" LIKE '臺北市%')\n",
    "  AND a.\"日期\" >= '2022-03-01'\n",
    "  AND a.\"日期\" < '2022-04-01'\n",
    "ORDER BY a.\"日期\" ASC;\n",
    "\"\"\")"
   ]
  },
  {
   "cell_type": "code",
   "execution_count": 28,
   "id": "4113007c",
   "metadata": {},
   "outputs": [
    {
     "name": "stdout",
     "output_type": "stream",
     "text": [
      "SELECT DISTINCT\n",
      "    a.\"日期\",\n",
      "    a.\"進站人數\",\n",
      "    a.\"出站人數\",\n",
      "    b.\"stationCode\",\n",
      "    b.\"stationName\",\n",
      "    b.\"name\",\n",
      "    b.\"stationAddrTw\",\n",
      "    b.\"haveBike\"\n",
      "FROM \"每日各站進出站人數\" AS a\n",
      "JOIN \"台鐵車站資訊\" AS b\n",
      "  ON a.\"車站代碼\" = b.\"stationCode\"\n",
      "ORDER BY a.\"進站人數\" DESC\n",
      "LIMIT 10;\n",
      "\n"
     ]
    }
   ],
   "source": [
    "#作業：#query 使用JOIN取出資料進站人數最多的前10筆資料\n",
    "print(\"\"\"SELECT DISTINCT\n",
    "    a.\"日期\",\n",
    "    a.\"進站人數\",\n",
    "    a.\"出站人數\",\n",
    "    b.\"stationCode\",\n",
    "    b.\"stationName\",\n",
    "    b.\"name\",\n",
    "    b.\"stationAddrTw\",\n",
    "    b.\"haveBike\"\n",
    "FROM \"每日各站進出站人數\" AS a\n",
    "JOIN \"台鐵車站資訊\" AS b\n",
    "  ON a.\"車站代碼\" = b.\"stationCode\"\n",
    "ORDER BY a.\"進站人數\" DESC\n",
    "LIMIT 10;\n",
    "\"\"\")"
   ]
  }
 ],
 "metadata": {
  "kernelspec": {
   "display_name": "pydev",
   "language": "python",
   "name": "python3"
  },
  "language_info": {
   "codemirror_mode": {
    "name": "ipython",
    "version": 3
   },
   "file_extension": ".py",
   "mimetype": "text/x-python",
   "name": "python",
   "nbconvert_exporter": "python",
   "pygments_lexer": "ipython3",
   "version": "3.10.18"
  }
 },
 "nbformat": 4,
 "nbformat_minor": 5
}
