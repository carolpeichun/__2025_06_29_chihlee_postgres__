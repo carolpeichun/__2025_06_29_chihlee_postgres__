{
 "cells": [
  {
   "cell_type": "code",
   "execution_count": null,
   "id": "ce94dc9a",
   "metadata": {},
   "outputs": [
    {
     "name": "stdout",
     "output_type": "stream",
     "text": [
      "SELECT DISTINCT\n",
      "    b.\"stationCode\",\n",
      "    b.\"stationName\",\n",
      "    b.\"name\",\n",
      "    b.\"stationAddrTw\"\n",
      "FROM \"每日各站進出站人數\" AS a\n",
      "JOIN \"台鐵車站資訊\" AS b\n",
      "  ON a.\"車站代碼\" = b.\"stationCode\"\n",
      "WHERE b.\"stationAddrTw\" LIKE '基隆市%';\n",
      "\n"
     ]
    }
   ],
   "source": [
    "#query 使用JOIN取出基隆市有那些火車站\n",
    "#將sql語句存入變數sql\n",
    "#在Table有代名詞的前提下，欄位名稱皆需加上雙引號，不論是中文、英文大小寫或英文小寫\n",
    "#值得加上單引號\n",
    "sql = \"\"\"SELECT DISTINCT\n",
    "    b.\"stationCode\",\n",
    "    b.\"stationName\",\n",
    "    b.\"name\",\n",
    "    b.\"stationAddrTw\"\n",
    "FROM \"每日各站進出站人數\" AS a\n",
    "JOIN \"台鐵車站資訊\" AS b\n",
    "  ON a.\"車站代碼\" = b.\"stationCode\"\n",
    "WHERE b.\"stationAddrTw\" LIKE '基隆市%';\n",
    "\"\"\"\n",
    "\n",
    "print(sql) #變數sql外加print()可換行"
   ]
  },
  {
   "cell_type": "code",
   "execution_count": null,
   "id": "cfc8ccca",
   "metadata": {},
   "outputs": [
    {
     "name": "stdout",
     "output_type": "stream",
     "text": [
      "SELECT \t\n",
      "    日期,\n",
      "    進站人數,\n",
      "    出站人數,\n",
      "    \"stationName\" AS 名稱,\n",
      "    name AS 地名,\n",
      "    \"stationAddrTw\" AS 地址,\n",
      "    \"haveBike\" AS youbike\n",
      "FROM \"每日各站進出站人數\"\n",
      "LEFT JOIN \"台鐵車站資訊\"\n",
      "ON 車站代碼 = \"stationCode\";\n",
      "\n"
     ]
    }
   ],
   "source": [
    "#query 使用JOIN取出指定欄位:日期,進站人數,出站人數,名稱,地名,地址,youbike\n",
    "#將sql語句存入變數sql\n",
    "#在Table沒有代名詞的前提下，欄位名稱為中文時，可不需加上雙引號\n",
    "#在Table沒有代名詞的前提下，欄位名稱為英文大小寫都有時，需加上雙引號，否則英文大寫會被自動轉換為小寫\n",
    "#在Table沒有代名詞的前提下，欄位名稱為英文小寫時，可不需加上雙引號\n",
    "#值得加上單引號\n",
    "sql = \"\"\"SELECT \t\n",
    "    日期,\n",
    "    進站人數,\n",
    "    出站人數,\n",
    "    \"stationName\" AS 名稱,\n",
    "    name AS 地名,\n",
    "    \"stationAddrTw\" AS 地址,\n",
    "    \"haveBike\" AS youbike\n",
    "FROM \"每日各站進出站人數\"\n",
    "LEFT JOIN \"台鐵車站資訊\"\n",
    "ON 車站代碼 = \"stationCode\";\n",
    "\"\"\"\n",
    "\n",
    "print(sql) #變數sql外加print()可換行"
   ]
  },
  {
   "cell_type": "code",
   "execution_count": 3,
   "id": "3b3e0dcf",
   "metadata": {},
   "outputs": [
    {
     "name": "stdout",
     "output_type": "stream",
     "text": [
      "<class 'int'>\n",
      "<class 'float'>\n",
      "<class 'str'>\n",
      "===========\n",
      "10\n",
      "15.0\n",
      "50\n"
     ]
    }
   ],
   "source": [
    "#建立變數\n",
    "n = 5\n",
    "m = 10.0\n",
    "x = '5'\n",
    "print(type(n))\n",
    "print(type(m))\n",
    "print(type(x))\n",
    "\n",
    "print(\"===========\")\n",
    "\n",
    "n = 10\n",
    "m = 15.0\n",
    "x = '50'\n",
    "print(n)\n",
    "print(m)\n",
    "print(x)"
   ]
  },
  {
   "cell_type": "code",
   "execution_count": null,
   "id": "ad439378",
   "metadata": {},
   "outputs": [
    {
     "data": {
      "text/plain": [
       "tuple"
      ]
     },
     "execution_count": 6,
     "metadata": {},
     "output_type": "execute_result"
    }
   ],
   "source": [
    "#建立tuple  #使用小括號()\n",
    "#Tuple 就是不可變的有序序列。當你需要一組固定且不變的資料時，Tuple 是比 List 更好的選擇。\n",
    "student1 = (87, 76, 65, 78, 92)\n",
    "student1\n",
    "type(student1)"
   ]
  },
  {
   "cell_type": "code",
   "execution_count": null,
   "id": "e7b1224e",
   "metadata": {},
   "outputs": [
    {
     "data": {
      "text/plain": [
       "list"
      ]
     },
     "execution_count": 7,
     "metadata": {},
     "output_type": "execute_result"
    }
   ],
   "source": [
    "#建立list   #使用中括號[]\n",
    "#List 是可變的有序序列。當你需要一組可以修改的資料時，並且項目的順序很重要時，List 是更好的選擇。\n",
    "student2 = [87, 76, 65, 78, 92]\n",
    "student2\n",
    "type(student2)"
   ]
  },
  {
   "cell_type": "code",
   "execution_count": null,
   "id": "db00d0cd",
   "metadata": {},
   "outputs": [
    {
     "data": {
      "text/plain": [
       "92"
      ]
     },
     "execution_count": 14,
     "metadata": {},
     "output_type": "execute_result"
    }
   ],
   "source": [
    "#使用subscript operator[] 取出序列（如字串、列表、元組）中的元素值時，索引從0開始\n",
    "student2[0]\n",
    "student2[1]\n",
    "student2[2]\n",
    "student2[3]\n",
    "student2[4]\n",
    "#student2[5] # 超出索引會出錯"
   ]
  },
  {
   "cell_type": "code",
   "execution_count": 18,
   "id": "f801970e",
   "metadata": {},
   "outputs": [
    {
     "data": {
      "text/plain": [
       "87"
      ]
     },
     "execution_count": 18,
     "metadata": {},
     "output_type": "execute_result"
    }
   ],
   "source": [
    "#建立dict(dictionary)\n",
    "student3 = {'chinese':67,'english':75,'math':89,'history':87,'discovery':92} #mapping(映射資料)\n",
    "type(student3)\n",
    "#使用subscript取出值\n",
    "student3['math']\n",
    "student3['history']"
   ]
  },
  {
   "cell_type": "code",
   "execution_count": 20,
   "id": "338368f2",
   "metadata": {},
   "outputs": [
    {
     "data": {
      "text/plain": [
       "92"
      ]
     },
     "execution_count": 20,
     "metadata": {},
     "output_type": "execute_result"
    }
   ],
   "source": [
    "#tuple的拆解法\n",
    "m, n = 78, 92\n",
    "m\n",
    "n"
   ]
  },
  {
   "cell_type": "code",
   "execution_count": 23,
   "id": "bc122d05",
   "metadata": {},
   "outputs": [
    {
     "data": {
      "text/plain": [
       "78"
      ]
     },
     "execution_count": 23,
     "metadata": {},
     "output_type": "execute_result"
    }
   ],
   "source": [
    "#建立4個學生的list\n",
    "student1 = [87, 76, 65, 78, 92] #Sequence(序列資料)\n",
    "student2 = [67, 75, 89, 87, 92] #Sequence(序列資料)\n",
    "student3 = [78, 82, 90, 85, 88] #Sequence(序列資料)\n",
    "student4 = [80, 70, 75, 90, 95] #Sequence(序列資料)\n",
    "\n",
    "#建立4個學生的dict\n",
    "student5 = {'chinese':87,'english':76,'math':65,'history':78,'discovery':92} #mapping(映射資料)\n",
    "student6 = {'chinese':67,'english':75,'math':89,'history':87,'discovery':92}\n",
    "student7 = {'chinese':78,'english':82,'math':90,'history':85,'discovery':88}\n",
    "student8 = {'chinese':80,'english':70,'math':75,'history':90,'discovery':95}\n",
    "\n",
    "#建立students的list,包含4個學生的dict\n",
    "students = [student5, student6, student7, student8] #Sequence(序列資料)\n",
    "students\n",
    "\n",
    "students[0]['chinese']\n",
    "students[2]['chinese']\n",
    "\n"
   ]
  }
 ],
 "metadata": {
  "kernelspec": {
   "display_name": "pydev",
   "language": "python",
   "name": "python3"
  },
  "language_info": {
   "codemirror_mode": {
    "name": "ipython",
    "version": 3
   },
   "file_extension": ".py",
   "mimetype": "text/x-python",
   "name": "python",
   "nbconvert_exporter": "python",
   "pygments_lexer": "ipython3",
   "version": "3.10.18"
  }
 },
 "nbformat": 4,
 "nbformat_minor": 5
}
