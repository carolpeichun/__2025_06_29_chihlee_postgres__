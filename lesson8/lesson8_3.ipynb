{
 "cells": [
  {
   "cell_type": "markdown",
   "id": "a37c8e1f",
   "metadata": {},
   "source": [
    "### 自訂function(函式)"
   ]
  },
  {
   "cell_type": "code",
   "execution_count": 1,
   "id": "a6efc17f",
   "metadata": {},
   "outputs": [
    {
     "name": "stdout",
     "output_type": "stream",
     "text": [
      "Hello, World!\n"
     ]
    }
   ],
   "source": [
    "#定義一個函式\n",
    "def sayHello():\n",
    "    print(\"Hello, World!\")\n",
    "\n",
    "sayHello()"
   ]
  },
  {
   "cell_type": "code",
   "execution_count": 2,
   "id": "df4ecd92",
   "metadata": {},
   "outputs": [
    {
     "name": "stdout",
     "output_type": "stream",
     "text": [
      "Hello! Carol\n"
     ]
    }
   ],
   "source": [
    "#定義一個函式, 有一參數\n",
    "def say_hello(name):\n",
    "    print(\"Hello!\", name)\n",
    "\n",
    "say_hello(\"Carol\")"
   ]
  },
  {
   "cell_type": "code",
   "execution_count": 3,
   "id": "11849ad2",
   "metadata": {},
   "outputs": [
    {
     "name": "stdout",
     "output_type": "stream",
     "text": [
      "Hello, Alice!\n"
     ]
    }
   ],
   "source": [
    "#寫一個函式, 輸入名字, 輸出 Hello, 名字\n",
    "def greet(name):\n",
    "    print(f\"Hello, {name}!\")\n",
    "\n",
    "greet(\"Alice\")"
   ]
  },
  {
   "cell_type": "code",
   "execution_count": 5,
   "id": "ff702ee1",
   "metadata": {},
   "outputs": [
    {
     "data": {
      "text/plain": [
       "'========================================'"
      ]
     },
     "execution_count": 5,
     "metadata": {},
     "output_type": "execute_result"
    }
   ],
   "source": [
    "# srt concatnate(連結)\n",
    "\"Alice\" + \" 您好\"\n",
    "\n",
    "\"=\" * 40"
   ]
  },
  {
   "cell_type": "code",
   "execution_count": 6,
   "id": "f66a248c",
   "metadata": {},
   "outputs": [
    {
     "name": "stdout",
     "output_type": "stream",
     "text": [
      "蘋果: 5\n"
     ]
    },
    {
     "data": {
      "text/plain": [
       "'蘋果:5'"
      ]
     },
     "execution_count": 6,
     "metadata": {},
     "output_type": "execute_result"
    }
   ],
   "source": [
    "apple = 5\n",
    "\n",
    "print(\"蘋果:\", apple)\n",
    "f\"蘋果:{apple}\""
   ]
  },
  {
   "cell_type": "code",
   "execution_count": 9,
   "id": "7ed402bb",
   "metadata": {},
   "outputs": [
    {
     "data": {
      "text/plain": [
       "55"
      ]
     },
     "execution_count": 9,
     "metadata": {},
     "output_type": "execute_result"
    }
   ],
   "source": [
    "#建立一個函式, 傳入一個數字串列, 回傳總和\n",
    "def sum_numbers(numbers):\n",
    "    total = 0\n",
    "    for number in numbers:\n",
    "        total += number\n",
    "    return total\n",
    "\n",
    "sum_numbers([1, 2, 3, 4, 5, 6, 7, 8, 9, 10])"
   ]
  },
  {
   "cell_type": "code",
   "execution_count": 11,
   "id": "65281ae1",
   "metadata": {},
   "outputs": [
    {
     "name": "stdout",
     "output_type": "stream",
     "text": [
      "15\n"
     ]
    }
   ],
   "source": [
    "n = 10\n",
    "n = n + 5\n",
    "print(n)"
   ]
  },
  {
   "cell_type": "code",
   "execution_count": 13,
   "id": "111b782c",
   "metadata": {},
   "outputs": [
    {
     "name": "stdout",
     "output_type": "stream",
     "text": [
      "50\n"
     ]
    }
   ],
   "source": [
    "#複合指定運算子\n",
    "n = 10\n",
    "n *= 5\n",
    "print(n)"
   ]
  },
  {
   "cell_type": "code",
   "execution_count": 16,
   "id": "097d8dd7",
   "metadata": {},
   "outputs": [
    {
     "data": {
      "text/plain": [
       "False"
      ]
     },
     "execution_count": 16,
     "metadata": {},
     "output_type": "execute_result"
    }
   ],
   "source": [
    "5 > 3\n",
    "5 == 5\n",
    "5 != 5"
   ]
  },
  {
   "cell_type": "code",
   "execution_count": 19,
   "id": "f3b5de6d",
   "metadata": {},
   "outputs": [
    {
     "name": "stdout",
     "output_type": "stream",
     "text": [
      "True\n",
      "False\n"
     ]
    }
   ],
   "source": [
    "#定義一個函式, 輸入一個整數, 回傳是否為偶數（True/False)\n",
    "def is_even(n):\n",
    "    return n % 2 == 0\n",
    "\n",
    "#測試函式\n",
    "print(is_even(4)) #True\n",
    "print(is_even(5)) #False\n"
   ]
  }
 ],
 "metadata": {
  "kernelspec": {
   "display_name": "pydev",
   "language": "python",
   "name": "python3"
  },
  "language_info": {
   "codemirror_mode": {
    "name": "ipython",
    "version": 3
   },
   "file_extension": ".py",
   "mimetype": "text/x-python",
   "name": "python",
   "nbconvert_exporter": "python",
   "pygments_lexer": "ipython3",
   "version": "3.10.18"
  }
 },
 "nbformat": 4,
 "nbformat_minor": 5
}
